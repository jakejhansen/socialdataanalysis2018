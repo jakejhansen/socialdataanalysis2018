{
 "cells": [
  {
   "cell_type": "markdown",
   "metadata": {},
   "source": [
    "# Week 6\n",
    "\n",
    "This week we continue with the NYC crime data. And since we will be reading about *Geomapping* in chapter 14, that's what we'll be working on. \n",
    "\n",
    "I don't know if you all know it, but we've reached an important milestone today. ***We are done with the book***. That means more data analysis and visualization for the next three lectures and less reading. For today, we'll celebrate by also skipping the videos (there's a lot of work, so we'll get crackin' right away).\n",
    "\n",
    "The program for today is\n",
    "\n",
    "* Read chapter 14 in IDV\n",
    "* Work on visualizing geodata on NYC murders"
   ]
  },
  {
   "cell_type": "markdown",
   "metadata": {},
   "source": [
    "## Part 1: Reading\n",
    "\n",
    "> *Reading*: Read IDV Chapter 14\n",
    "\n",
    "Yep. It's that simple :)"
   ]
  },
  {
   "cell_type": "markdown",
   "metadata": {},
   "source": [
    "## Part 2: Visualizing geodata"
   ]
  },
  {
   "cell_type": "markdown",
   "metadata": {},
   "source": [
    "Now that you have read chapter 14 in the IDV boook, it's time to put your newfound skills to the test. We will be using the same dataset from Week 5 to visualize where all reported murders in NYC in 2016 took place."
   ]
  },
  {
   "cell_type": "markdown",
   "metadata": {},
   "source": [
    ">_Exercise_: Create a geospatial visualization displaying the murders of 2016 on a map, along with an associated histogram. You should be able to select points in the map to show the corresponding distribution of murders on an hourly time scale in the barchart. \n",
    "\n",
    "Essentially, we want you to create something like the movie below (viz by our very own TA, Nicolai). But feel free to choose your own colors, page-organization, animations, etc, etc."
   ]
  },
  {
   "cell_type": "code",
   "execution_count": 2,
   "metadata": {},
   "outputs": [
    {
     "data": {
      "image/jpeg": "[encoded data removed]",
      "text/html": [
       "\n",
       "        <iframe\n",
       "            width=\"800\"\n",
       "            height=\"450\"\n",
       "            src=\"https://www.youtube.com/embed/iamPF_rbSf4\"\n",
       "            frameborder=\"0\"\n",
       "            allowfullscreen\n",
       "        ></iframe>\n",
       "        "
      ],
      "text/plain": [
       "<IPython.lib.display.YouTubeVideo at 0x1119d6910>"
      ]
     },
     "execution_count": 2,
     "metadata": {},
     "output_type": "execute_result"
    }
   ],
   "source": [
    "from IPython.display import YouTubeVideo\n",
    "YouTubeVideo(\"iamPF_rbSf4\",width=800, height=450)"
   ]
  },
  {
   "cell_type": "markdown",
   "metadata": {},
   "source": [
    "This is not an easy visualization to create, so below is a little guide to help you get started.\n",
    "\n",
    "### Get the data\n",
    "Using Python, R or another programming language of choice, create a `.csv` or `.json` containing the murders of 2016. Remember to extract at least the time and geoposition of each murder from the big dataset.\n",
    "\n",
    "### Figure out the map\n",
    "* Start by generating the map of the 5 boroughs in NYC in D3, you can use this [GeoJSON file of the NYC boroughs](https://github.com/dwillis/nyc-maps/blob/master/boroughs.geojson).\n",
    "* Chapter 14 in the IDV book has all the information you need for this part, so make sure to read it.\n",
    "* For this data we recommend using the `d3.GeoMercator()` projection instead of the UsaAlbers projection used in the book.\n",
    "* If your map doesn't show up, consider the *scale*, *center* and *translation* parameters of your `d3.GeoMercator()`\n",
    "* Once you have the map, add in the murder data-points using your `.csv` or `.json` data and style them to your liking.\n",
    "\n",
    "### Barchart is next\n",
    "Setup your bar chart somewhere near to your map. As shown in the video above, we want it to show the number of murders each hour of the day. So what is the total number of murders between midnight and 1am, total between 1am and 2am, etc. Don't forget a nice title and labels for the axes.\n",
    "\n",
    "### Brushing\n",
    "Now we want to be able select areas of interest in the map. We will do this using a d3.brush. The idea is that the bar chart should now show the temporal distribution of the selected points.\n",
    "\n",
    "\n",
    "Start by defining your brush. Take a look at [this bl.ocks example](http://bl.ocks.org/feyderm/6bdbc74236c27a843db633981ad22c1b)\n",
    "\n",
    "Your brush should be able to select points in the map, and style the points so that selected points are distinguishable from non-selected points (so the users knows which points are selected).\n",
    "\n",
    "* **Helpful note #1**: Think about how you determine if a point is within your brush using your projection.\n",
    "Use the selected points to update your bar chart.\n",
    "* **Helpful note #2**: Think about how you will get the data from the selected points, i would recommend re-reading chapter 12 on Selections in IDV, if you have not done so already.\n",
    "\n",
    "### Make it look good\n",
    "\n",
    "* Style the map and bar chart in any way you like.\n",
    "* If you want you can add the NYC Borough name to the map by adding a text for each of the 5 features in the geojson file.\n",
    "`.data(json.features).enter().append(\"text\")`\n",
    "\n",
    "\n"
   ]
  },
  {
   "cell_type": "code",
   "execution_count": null,
   "metadata": {},
   "outputs": [],
   "source": []
  }
 ],
 "metadata": {
  "kernelspec": {
   "display_name": "Python 2",
   "language": "python",
   "name": "python2"
  },
  "language_info": {
   "codemirror_mode": {
    "name": "ipython",
    "version": 2
   },
   "file_extension": ".py",
   "mimetype": "text/x-python",
   "name": "python",
   "nbconvert_exporter": "python",
   "pygments_lexer": "ipython2",
   "version": "2.7.14"
  }
 },
 "nbformat": 4,
 "nbformat_minor": 2
}
