{
 "cells": [
  {
   "cell_type": "markdown",
   "metadata": {},
   "source": [
    "# Week 4\n",
    "\n",
    "Today it's a fine smorgasbord of learning about visualization, mixing lectures on the principles with more hands-on D3 fun. The topics are\n",
    "* Visualization for datascience (two variables)\n",
    "* Lecture on the principles of visualization (explanatory visualization)\n",
    "* Working with the IDV\n",
    "* As well as practical D3 examples "
   ]
  },
  {
   "cell_type": "markdown",
   "metadata": {},
   "source": [
    " ## Part 1: Exploratory data visualzation, two variables\n",
    " \n",
    "I told you how I love the *Data Analysis with Open Source Tools* book. This time, we'll read Chapter 3, which is about visualizing data with two variables.  You can get the text [here](https://www.dropbox.com/s/dgdmmaywqkk0jzq/DAOST_chapter3.pdf?dl=0)."
   ]
  },
  {
   "cell_type": "markdown",
   "metadata": {},
   "source": [
    "> Exercises: DAOST chapter 3\n",
    "> * Looking at Fig 3-1, Janert writes \"the data itself shows clearly that the amount of random noise in the data is small\". What do you think his argument is?\n",
    "> * Can you think of a real-world example of a multivariate relationship like the one in Fig 3-3 (lower right panel)?\n",
    "> * What are the two methods Janert metions for smoothing noisy data? Can you think of other ones?\n",
    "> * What is problematic about using straight lines to fit the data in Fig 3-5? (Something similar is actually the topic of a *Nature* article from 2004 [get it here](https://github.com/suneman/socialdataanalysis2018/blob/master/files/regrunners.pdf). And an [extra link](http://www2.imm.dtu.dk/pubdb/views/edoc_download.php/3366/pdf/imm3366.pdf) on this topic for the students who know Danish).\n",
    "> * What are residuals? Why is it a good idea to plot the residuals of your fit?\n",
    "> * Explain in your own words the point of the smooth tube in figure 3-7.\n",
    "> * What kind of relationships will a semi-log plot help you discover?\n",
    "> * What kind of functions will loglog plots help you see?\n",
    "> * What the h#ll is *banking* and what part of our visual system does it use to help us see patterns? What are potential problems with banking?\n",
    "> * I think figure 3-14 makes an important point about linear fits that is rarely made. What is it? \n",
    "> * I know you love Ascombe's Quartet (Figure 3-15), but have you seen this: https://www.autodeskresearch.com/publications/samestats (That page is pretty darn cool)\n",
    "> * Summarize the discussion of *Graphical Analysis* and *Presentation Graphics* on pp. 68-69 in your own words."
   ]
  },
  {
   "cell_type": "markdown",
   "metadata": {},
   "source": [
    "## Part 2: Explanatory data visualization\n",
    "\n",
    "Now for more award winning lecturing on data viz. Note how that last question in the last section ties perfectly into this video. "
   ]
  },
  {
   "cell_type": "code",
   "execution_count": 1,
   "metadata": {},
   "outputs": [
    {
     "data": {
      "image/jpeg": "[encoded data removed]",
      "text/html": [
       "\n",
       "        <iframe\n",
       "            width=\"600\"\n",
       "            height=\"338\"\n",
       "            src=\"https://www.youtube.com/embed/yHKYMGwefso\"\n",
       "            frameborder=\"0\"\n",
       "            allowfullscreen\n",
       "        ></iframe>\n",
       "        "
      ],
      "text/plain": [
       "<IPython.lib.display.YouTubeVideo at 0x10d7bb7d0>"
      ]
     },
     "execution_count": 1,
     "metadata": {},
     "output_type": "execute_result"
    }
   ],
   "source": [
    "# Sune talks about designing visualizations.\n",
    "from IPython.display import YouTubeVideo\n",
    "YouTubeVideo(\"yHKYMGwefso\",width=600, height=338)"
   ]
  },
  {
   "cell_type": "markdown",
   "metadata": {},
   "source": [
    "> *Exercises*: Explanatory data visualization\n",
    "> * What are the three key elements to keep in mind when you design an explanatory visualization?\n",
    "> * In the video I talk about (1) *overview first*,  (2) *zoom and filter*,  (3) *details on demand*. \n",
    ">   - Go online and find a visualization that follows these principles (don't use one from the video). \n",
    ">   - Explain how it does achieves (1)-(3). It might be useful to use screenshots to illustrate your explanation.\n",
    "> * Explain in your own words: How is explanatory data analysis different from exploratory data analysis?"
   ]
  },
  {
   "cell_type": "markdown",
   "metadata": {},
   "source": [
    "## Part 3: Interactive Data Visualization (for the web)\n",
    "\n",
    "Ah did you think I had forgotten about the D3 book? Nope. It's time to read again. I'm not going to repeat my instructions on how to read the book as a tutorial, but I still highly recommend it. It's time to work through chapter 10 and 11."
   ]
  },
  {
   "cell_type": "markdown",
   "metadata": {},
   "source": [
    "> Exercises: IDV chapter 11\n",
    "> * Explain in your own words: Line-charts are important, so why hasn't the book covered `paths` sooner?\n",
    "> * Using your brand new line-drawing skills, re-create one of the plots from http://www.tylervigen.com/spurious-correlations (I recommend preparing the data manually, most of these have only a couple of data-points)."
   ]
  },
  {
   "cell_type": "markdown",
   "metadata": {},
   "source": [
    "# Part 4: Generating your own visualization\n",
    "\n",
    "> *Exercise*: DAOST Figure 3-5. \n",
    "> \n",
    "> The exercise for today is to recreate DAOST figure 3-5, but with data from the Boston Marathon winning times [get them here](https://en.wikipedia.org/wiki/List_of_winners_of_the_Boston_Marathon). You don't have to plot the smooth-curve approximations, it's enough to do the straight line fits.\n",
    "> \n",
    "> * First get the data from wikipedia onto your computer (there are may ways to do this, from pasting the table into Excel, or your favorite WYSIWIG editor to downloading the wikipage's markdown source ... it's your choice). Or try out OpenRefine as [mentioned in the book](https://www.propublica.org/nerds/using-google-refine-for-data-cleaning). \n",
    "> * You probably also want to convert the time in hours into minutes - once again there are many ways to do that. It's your choice.\n",
    "> * Start by plotting the raw data. Use different symbols for men/women. Do you see the same trends as in the data used in the book?\n",
    "> * Use `path` from Chapter 11 to connect the dots.\n",
    "> * Add your straight-line fit. You can do this in D3, but if you'd like it's OK to calculate the fit elsewhere (Python, Matlab, R, etc) and then simply add the straight line to the plot.\n",
    " - If you want to try your luck with pure D3, you might find inspiration [in this `bl.ock`](http://bl.ocks.org/benvandyke/8459843).\n",
    "> * Make sure you have a plot description, axes labels, and legend somewhere.\n",
    "> * Set up the plot so you can toggle between *only women*, *only men*, *all data*, using our skills from last time.\n",
    "> * Add tooltips that show the time & year, when you hover over a point, using our skills from chapter 10. Feel free to implement the tooltips any way you like.\n",
    "> * Bonus (optional), also show the name of the winner corresponding to a datapoint in the tooltip.\n",
    "\n"
   ]
  },
  {
   "cell_type": "code",
   "execution_count": null,
   "metadata": {},
   "outputs": [],
   "source": []
  }
 ],
 "metadata": {
  "kernelspec": {
   "display_name": "Python 2",
   "language": "python",
   "name": "python2"
  },
  "language_info": {
   "codemirror_mode": {
    "name": "ipython",
    "version": 2
   },
   "file_extension": ".py",
   "mimetype": "text/x-python",
   "name": "python",
   "nbconvert_exporter": "python",
   "pygments_lexer": "ipython2",
   "version": "2.7.14"
  }
 },
 "nbformat": 4,
 "nbformat_minor": 2
}
