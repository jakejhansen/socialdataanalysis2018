{
 "cells": [
  {
   "cell_type": "markdown",
   "metadata": {},
   "source": [
    "# Introduction\n",
    "\n",
    "This week there's a lot of reading, but as a reward we get to go and work on real data right after. And I'll hold back a bit on the visualization theory. (Next week we'll take a break from IDV and focus on the visualization theory).\n",
    "\n",
    "The plan is the following\n",
    "* First read chapter 7,8,9 in IDV\n",
    "* Then we recreate a website, upgrading the graphics using our cool new skillset."
   ]
  },
  {
   "cell_type": "markdown",
   "metadata": {},
   "source": [
    "## Part 1: More reading and coding\n",
    "\n",
    "Ok. We're going to start today with a large chunck of reading. I really like IDV and ***like last time*** I recommend you **don't just _read_ the book**. Instead, use it as a tutorial, by doing the following.\n",
    "\n",
    "* Fire up a local web-server (as described in Chapter 4).\n",
    "* Start from an relatively html page template, something like\n",
    "```\n",
    "<!DOCTYPE html>\n",
    "<html lang=\"en\">\n",
    "    <head>\n",
    "        <meta charset=\"utf-8\">\n",
    "        <title>D3 Page Template</title>\n",
    "        <script type=\"text/javascript\" src=\"../d3/d3.js\"></script>\n",
    "    </head>\n",
    "    <body>\n",
    "        <script type=\"text/javascript\">\n",
    "            // Your beautiful D3 code will go here\n",
    "        </script>\n",
    "    </body>\n",
    "</html>\n",
    "```\n",
    "* Work through each of the many excellent examples in the book _by adding the code discussed line by line_ (feel free to change things a bit to make things your own). **In my opinion this method of slowly building the visualization on your own is much better than downloading pre-baked code from github**. Edit the D3 in an simple text editor (like atom (https://atom.io/) or sublime text (https://www.sublimetext.com/), and keep your page open in a browser (with developer tools open). That way you can experience how each new bit of code changes your visualization. This strategy takes longer, but will save you time in the long run (because you'll understand everything much better).\n",
    "\n",
    "> _Reading_: Work through IDV Chapter 7, 8, 9 as described above."
   ]
  },
  {
   "cell_type": "markdown",
   "metadata": {},
   "source": [
    "> *Exercise*: Questions for chapter 7\n",
    "> * Explain in your own words: What is the point of scales? \n",
    "> * Why are `d3.min()` and `d3.max()` useful? And what's the accessor function? When do you need that?\n",
    "> * What is Bostock's margin convention mentioned on page 125?\n",
    "> * Can you mention an example when you might need other scales than linear?\n",
    "> * How do you convert strings to `Date` objects? When is it good to check that your conversion works? Do you have to be extra careful with Danish dates? Why? "
   ]
  },
  {
   "cell_type": "markdown",
   "metadata": {},
   "source": [
    "> *Exercise*: Questions for chapter 8\n",
    "> * Explain in your own words: What is the point of axes?\n",
    "> * On page 136-7, Scott notes: \"You might be wondering why this looks so different from our friendly scale functions\". Answer in your own words.\n",
    "> * What are SVG transformations?\n",
    "> * Why might D3 give you different axes-ticks than you ask for?"
   ]
  },
  {
   "cell_type": "markdown",
   "metadata": {},
   "source": [
    "> *Exercise*: Questions for chapter 9\n",
    "> * Explain in your own words, what is an ordinal scale? When do you need it?\n",
    "> * If you were plotting data related to months (Jan, Feb, ... , Dec), would you use time-based scales or ordinal scales? Justify your answer.\n",
    "> * What is an *event listener*? Why is it useful?\n",
    "> * What is your favorite `D3` transition?\n",
    "> * Under what circumstances do you need to update your scale while doing transtions?\n",
    "> * Under what circumstances do you need to update your axes while doing transtions?\n",
    "> * What's the point of `on()`?\n",
    "> * Can you think of a real-world situation where you might want to add/remove bars to/from your histogram?\n",
    "> * Why might you want to use a key function when adding/removing data?"
   ]
  },
  {
   "cell_type": "markdown",
   "metadata": {},
   "source": [
    "# Part 2: Video lecture\n",
    "\n",
    "Now, let's get some theory going."
   ]
  },
  {
   "cell_type": "code",
   "execution_count": 3,
   "metadata": {},
   "outputs": [
    {
     "data": {
      "image/jpeg": "[encoded data removed]",
      "text/html": [
       "\n",
       "        <iframe\n",
       "            width=\"800\"\n",
       "            height=\"450\"\n",
       "            src=\"https://www.youtube.com/embed/zE6Nr8trdrw\"\n",
       "            frameborder=\"0\"\n",
       "            allowfullscreen\n",
       "        ></iframe>\n",
       "        "
      ],
      "text/plain": [
       "<IPython.lib.display.YouTubeVideo at 0x110f06d90>"
      ]
     },
     "execution_count": 3,
     "metadata": {},
     "output_type": "execute_result"
    }
   ],
   "source": [
    "# Sune talks about some of the theoretical elements underlying good visualizations\n",
    "from IPython.display import YouTubeVideo\n",
    "YouTubeVideo(\"zE6Nr8trdrw\",width=800, height=450)"
   ]
  },
  {
   "cell_type": "markdown",
   "metadata": {},
   "source": [
    "> *Excercise*: Some questions for the video\n",
    ">\n",
    "> * Mention 10 examples of ways we can encode data\n",
    "> * Are all encoding created equally? Why not?\n",
    "> * Explain in your own words: What is the problem with pie-charts?\n",
    "> * Mention three encodings that are difficult for the human eye to parse? Can you find an example of a visualization onlie that uses one of those three?\n",
    "> * What is a \"Choropleth\"? What does the ancient Greek root of that word \"χῶρος\" mean?"
   ]
  },
  {
   "cell_type": "markdown",
   "metadata": {},
   "source": [
    "# Part 3: Recreating a website\n",
    "\n",
    "Reading the title of this section, you're probably thinking. What the h#ll does Sune mean \"recreate a website\"? Well, let me explain. I really love the site \n",
    "\n",
    "> http://iquantny.tumblr.com/,\n",
    "\n",
    "where Ben Wellington analyzes open data from New York City. Take a look at the page to get a feel for it. (And see https://opendata.cityofnewyork.us/ for more details on the data).\n",
    "\n",
    "Today, I want you guys to help Ben make prettier graphics. I looked around a bit and it turns out that the page \n",
    "\n",
    "> http://iquantny.tumblr.com/post/129373499164/this-is-quantifiably-the-best-month-to-go-to-the\n",
    "\n",
    "Is perfect for practicing your new D3 skills. Below, I describe in detail what I'd like you to do."
   ]
  },
  {
   "cell_type": "markdown",
   "metadata": {},
   "source": [
    "> *Exercise*: I quant NY \n",
    "> * Read the page http://iquantny.tumblr.com/post/129373499164/this-is-quantifiably-the-best-month-to-go-to-the\n",
    "> * Create a new `html` page and write \"This is a reproduction of http://iquantny.tumblr.com/post/129373499164/this-is-quantifiably-the-best-month-to-go-to-the as the first line\" (we don't want you guys to get in trouble with plagiarims).\n",
    "> * Then format the page nicely with `CSS` styles that you like and put in the text from the original page. \n",
    "> * Now, let's look at the first plot. \n",
    "![Blah]( https://raw.githubusercontent.com/suneman/socialdataanalysis2018/master/files/iquantny.png  \"The plot\")\n",
    "> * I want you to create a beautiful version of this barchart and place it in the right position on the page you've just created. It should be a little bit different than it is on the page:\n",
    ">   * I want the user to be able to *choose which data to display*, by (for example) clicking the type of produce (Fresh Fruit, Fresh Veggie, etc). You only need to dislplay one category at the time.\n",
    ">   * The $y$-scale should change dynamically to fit the data\n",
    ">   * Make sure you have the right axes, axes labels, title.\n",
    ">   * You choose the remaining style.\n",
    "> * **Optional** (for advanced users) create a stacked barchar. \n",
    "> * **Optional** (for advanced users) put all four categories side-by-side in little groups of four (still enabling the user to turn categories on/off).\n",
    "> Once you have finished your visualization, update the text to describe it."
   ]
  },
  {
   "cell_type": "markdown",
   "metadata": {},
   "source": [
    "The data is available below"
   ]
  },
  {
   "cell_type": "raw",
   "metadata": {},
   "source": [
    "Index,Category,Freshness,Jan,Feb,Mar,Apr,May,Jun,Jul,Aug,Sep,Oct,Nov,Dec\n",
    "0,Fruits,Harvest,0,0,0,0,0,1,7,8,10,5,0,0\n",
    "1,Fruits,Storage,2,2,1,1,1,1,0,0,0,0,2,2\n",
    "2,Vegetables,Harvest,0,0,0,2,11,16,23,28,33,31,11,3\n",
    "3,Vegetables,Storage,9,9,6,3,3,3,2,1,0,0,6,8"
   ]
  },
  {
   "cell_type": "code",
   "execution_count": null,
   "metadata": {},
   "outputs": [],
   "source": []
  }
 ],
 "metadata": {
  "kernelspec": {
   "display_name": "Python 2",
   "language": "python",
   "name": "python2"
  },
  "language_info": {
   "codemirror_mode": {
    "name": "ipython",
    "version": 2
   },
   "file_extension": ".py",
   "mimetype": "text/x-python",
   "name": "python",
   "nbconvert_exporter": "python",
   "pygments_lexer": "ipython2",
   "version": "2.7.14"
  }
 },
 "nbformat": 4,
 "nbformat_minor": 2
}
