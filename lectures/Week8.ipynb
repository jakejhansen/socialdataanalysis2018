{
 "cells": [
  {
   "cell_type": "markdown",
   "metadata": {},
   "source": [
    "# Week 8: A Python Tutorial\n",
    "\n",
    "If you already know Python, this is an easy week. (You can get started on the final project and work on Assignment 2). \n",
    "\n",
    "The only real content **that everyone needs to focus on** is finishing up [Narrative Visualization: Telling Stories with Data](http://vis.stanford.edu/files/2010-Narrative-InfoVis.pdf) and answering a few questions. This article is key to the new version of the final project, so make sure you read it carefully.\n",
    "\n",
    "If you're still feeling that you need some support with respect to the data analysis part of the class, we're going to try and get you all set up with data analyis in Python. It's a steep learning curve to get started, but I genuinly think that a couple of days of focused work will get you very far. The components I've put together are\n",
    "\n",
    "* Intro to Python \n",
    "* Intro to `matplotlib` (for quick and easy exploratory data analysis (scatter plots, distributions, etc.))\n",
    "* Intro to Pandas (with an intro to Numpy)\n",
    "* Intro to `scikit.learn` (for out-of-the-box-machine learning)\n",
    "\n",
    "*Note*: You don't have to do your data analysis in Python. That's just the recommended language. If you like JavaScript or R, that is also 110% fine."
   ]
  },
  {
   "cell_type": "markdown",
   "metadata": {},
   "source": [
    "## Part 1: Last part of *Narrative Visualization*\n",
    "\n",
    "We'll be finishing up [Narrative Visualization: Telling Stories with Data](http://vis.stanford.edu/files/2010-Narrative-InfoVis.pdf). You'll need to read section 4-5\n",
    "\n",
    "> *Exercise*: Questions to the text\n",
    "> \n",
    "> * What's the point of Figure 7?\n",
    "> * Use Figure 7 to find the most common design choice within each category for the *Visual narrative* and *Narrative structure* (the categories within *visual narrative* are 'visual structuring', 'highlighting', etc).\n",
    "> * Check out Figure 8 and section 4.3. What is your favorite genre of narrative visualization? Why? What is your least favorite genre? Why?"
   ]
  },
  {
   "cell_type": "markdown",
   "metadata": {},
   "source": [
    "## Part 2: Intro to Python\n",
    "\n",
    "There are many good introductions/tutorials to programming in Python. You should install via [Anaconda](https://www.anaconda.com/download/). Here are some links to get you started\n",
    "\n",
    "> * https://www.python.org/about/gettingstarted/\n",
    "> * https://eu.udacity.com/course/introduction-to-python--ud1110\n",
    "> * http://introtopython.org\n",
    "\n",
    "But you're free to do a web search and choose one you like better.\n",
    "\n",
    "You will probably want to do your data analysis in a [`Jupyter Notebook`](https://www.youtube.com/watch?v=HW29067qVWk).\n",
    "\n",
    "For more on getting set up with Python, you can also check out [last year's first lecture](http://nbviewer.jupyter.org/github/suneman/socialdataanalysis2017/blob/master/lectures/Week1.ipynb)."
   ]
  },
  {
   "cell_type": "markdown",
   "metadata": {},
   "source": [
    "## Part 3: Intro to `matplotlib`\n",
    "\n",
    "Basically `matplotlib` is how you plot stuff in Python. It is the **simplest and easiest way to do exploratory work with your data**. Here are some links to get you started \n",
    "\n",
    "> * https://matplotlib.org/tutorials/introductory/pyplot.html\n",
    "> * https://www.labri.fr/perso/nrougier/teaching/matplotlib/\n",
    "> * https://jakevdp.github.io/PythonDataScienceHandbook/04.00-introduction-to-matplotlib.html\n",
    "\n",
    "But you're free to do a web search and choose one you like better."
   ]
  },
  {
   "cell_type": "markdown",
   "metadata": {},
   "source": [
    "## Part 4: Intro to Pandas\n",
    "\n",
    "So what is Pandas? Basically, you can think of it as a way of doing massively huge excel spreadsheets inside Python. \n",
    "\n",
    "So if you want to download all the data on NYC crime in one huge CSV and then analyze it locally, extracting custom stuff, plotting, etc, **then Pandas is the tool you need**. Frankly, this is how I imagine you'll be doing most of your data analysis for the final project.\n",
    "\n",
    "Here are some links to get you started.\n",
    "\n",
    "> * https://pandas.pydata.org/pandas-docs/stable/tutorials.html\n",
    "> * https://www.datacamp.com/community/tutorials/pandas-tutorial-dataframe-python\n",
    "> * https://www.dataquest.io/blog/pandas-python-tutorial/\n",
    "\n",
    "If you love videos and want a video intro to Pandas, I've heard many good things about this one"
   ]
  },
  {
   "cell_type": "code",
   "execution_count": 2,
   "metadata": {},
   "outputs": [
    {
     "data": {
      "image/jpeg": "[encoded data removed]",
      "text/html": [
       "\n",
       "        <iframe\n",
       "            width=\"800\"\n",
       "            height=\"450\"\n",
       "            src=\"https://www.youtube.com/embed/5JnMutdy6Fw\"\n",
       "            frameborder=\"0\"\n",
       "            allowfullscreen\n",
       "        ></iframe>\n",
       "        "
      ],
      "text/plain": [
       "<IPython.lib.display.YouTubeVideo at 0x10d7a0110>"
      ]
     },
     "execution_count": 2,
     "metadata": {},
     "output_type": "execute_result"
    }
   ],
   "source": [
    "from IPython.display import YouTubeVideo\n",
    "YouTubeVideo(\"5JnMutdy6Fw\",width=800, height=450)"
   ]
  },
  {
   "cell_type": "markdown",
   "metadata": {},
   "source": [
    "### But what about numpy\n",
    "\n",
    "The data structures in Pandas are something called \"numpy arrays\". They're basically a Python format for storing vectors and matrices. The numpy arrays are much faster and convenient than standard lists. The way I think about it is that numpy is a way of making Python more like MatLab. If you want to read more about numpy, there's a tutorial here:\n",
    "\n",
    "> https://www.datacamp.com/community/tutorials/python-numpy-tutorial\n",
    "\n",
    "### Something you might want to try\n",
    "\n",
    "Once you've gone through all those Pandas tutorials, maybe you want to try it out on some real data? I recommend downloading all of the NYC crime data, and trying out how easy it is to extract specific crime-types, date ranges, overall stats, etc. Pandas is really pretty great. "
   ]
  },
  {
   "cell_type": "markdown",
   "metadata": {},
   "source": [
    "## Part 5: Intro to Scikit.learn\n",
    "\n",
    "Maybe you want to do some machine-learning as part of the data analysis for your project. Scikit.learn is a great implementation of some of the most commonly used algoritms, with lots of examples. For Scikit.learn, you should decide which algoritm you want to use and then start from the front page to find an example to see how everything works.\n",
    "\n",
    "> http://scikit-learn.org/\n",
    "\n",
    "They have help with classification, regression, clustering, and dimensionality reduction. You can even find methods for model selection and data preprocessing (feature extraction & normalization)."
   ]
  },
  {
   "cell_type": "code",
   "execution_count": null,
   "metadata": {},
   "outputs": [],
   "source": []
  }
 ],
 "metadata": {
  "kernelspec": {
   "display_name": "Python 2",
   "language": "python",
   "name": "python2"
  },
  "language_info": {
   "codemirror_mode": {
    "name": "ipython",
    "version": 2
   },
   "file_extension": ".py",
   "mimetype": "text/x-python",
   "name": "python",
   "nbconvert_exporter": "python",
   "pygments_lexer": "ipython2",
   "version": "2.7.14"
  }
 },
 "nbformat": 4,
 "nbformat_minor": 2
}
