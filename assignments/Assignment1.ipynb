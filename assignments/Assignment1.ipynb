{
 "cells": [
  {
   "cell_type": "markdown",
   "metadata": {},
   "source": [
    "# Assignment 1.\n",
    "\n",
    "## Formalia:\n",
    "\n",
    "Please read the [assignment overview page](https://github.com/suneman/socialdataanalysis2018/wiki/Assignments) carefully before proceeding. This page contains information about formatting (including formats etc), group sizes, and many other aspects of handing in the assignment. \n",
    "\n",
    "_If you fail to follow these simple instructions, it will negatively impact your grade!_\n",
    "\n",
    "**Due date and time**: The assignment is due on Monday Februrary 26th, 2018 at 23:55. Hand in your files via [`http://peergrade.io`](http://peergrade.io/).\n",
    "\n",
    "**Peergrading date and time**: _Remember that after handing in you have 24 hours to evaluate a few assignments written by other members of the class_. Thus, the peer evaluations are due on Monday March th, 2018 at 23:55."
   ]
  },
  {
   "cell_type": "markdown",
   "metadata": {
    "collapsed": true
   },
   "source": [
    "## Part 1: DAOST Chapter 2 Questions\n",
    "    \n",
    "* Explain in your own words the point of the jitter plot.\n",
    "* Explain in your own words the point of figure 2-3. (I'm going to skip saying \"in your own words\" going forward, but I hope you get the point; I expect all answers to be in your own words).\n",
    "* The author of DAOST (Philipp Janert) likes KDEs (and think they're better than histograms). And I don't. I didn't give a detailed explanation in the video, but now that works to my advantage. I'll ask you guys to think about this and thereby create an excellent exercise: When can KDEs be misleading?\n",
    "* I've discussed some strengths of the CDF - there are also weaknesses. Janert writes \"[CDFs] have less intuitive appeal than histograms of KDEs\". What does he mean by that?\n",
    "* What is a *Quantile plot*? What is it good for. \n",
    "* How is a *Probablity plot* defined? What is it useful for? Have you ever seen one before?\n",
    "* One of the reasons I like DAOST is that Janert is so suspicious of mean, median, and related summary statistics. Explain why one has to be careful when using those - and why visualization of the full data is always better. \n",
    "* I love box plots. When are box plots most useful?\n",
    "* The book doesn't mention [violin plots](https://en.wikipedia.org/wiki/Violin_plot). Are those better or worse than box plots? Why?"
   ]
  },
  {
   "cell_type": "markdown",
   "metadata": {},
   "source": [
    "## Part 2: DAOST Chapter 3 Questions\n",
    "\n",
    "* Looking at Fig 3-1, Janert writes \"the data itself shows clearly that the amount of random noise in the data is small\". What do you think his argument is?\n",
    "* Can you think of a real-world example of a multivariate relationship like the one in Fig 3-3 (lower right panel)?\n",
    "* What are the two methods Janert metions for smoothing noisy data? Can you think of other ones?\n",
    "* What are residuals? Why is it a good idea to plot the residuals of your fit?\n",
    "* Explain in your own words the point of the smooth tube in figure 3-7.\n",
    "* What kind of relationships will a semi-log plot help you discover?\n",
    "* What kind of functions will loglog plots help you see?\n",
    "* What the h#ll is *banking* and what element from our visual system does it use to help us see patterns? What are potential problems with banking?\n",
    "* I think figure 3-14 makes an important point about linear fits that is rarely made. What is it? \n",
    "* Summarize the discussion of *Graphical Analysis* and *Presentation Graphics* on pp. 68-69 in your own words."
   ]
  },
  {
   "cell_type": "markdown",
   "metadata": {},
   "source": [
    "## Part 3: Viz 1\n",
    "\n",
    "Re-creating an \"I quant NY\" page.\n",
    "\n",
    "\n",
    "* Read the page http://iquantny.tumblr.com/post/129373499164/this-is-quantifiably-the-best-month-to-go-to-the\n",
    "* On your `html` page, write \"This is a reproduction of http://iquantny.tumblr.com/post/129373499164/this-is-quantifiably-the-best-month-to-go-to-the as the first line\" (we don't want you guys to get in trouble with plagiarims).\n",
    "* Then format the page nicely with `CSS` styles that you like and put in the text from the original page. \n",
    "* Now, let's look at the first plot. \n",
    "![Blah]( https://raw.githubusercontent.com/suneman/socialdataanalysis2018/master/files/iquantny.png  \"The plot\")\n",
    "* I want you to create a beautiful version of this barchart and place it in the right position on the page you've just created. It should be a little bit different than it is on the page:\n",
    "  * I want the user to be able to *choose which data to display*, by (for example) clicking the type of produce (Fresh Fruit, Fresh Veggie, etc). You only need to dislplay one category at the time.\n",
    "  * The $y$-scale should change dynamically to fit the data\n",
    "  * Make sure you have the right axes, axes labels, title.\n",
    "  * You choose the remaining style.\n",
    "* **Optional** (for advanced users) create a stacked barchar. \n",
    "* **Optional** (for advanced users) put all four categories side-by-side in little groups of four (still enabling the user to turn categories on/off).\n",
    "Once you have finished your visualization, update the text to describe it."
   ]
  },
  {
   "cell_type": "markdown",
   "metadata": {},
   "source": [
    "## Part 4: Viz 2\n",
    "\n",
    "The idea is to recreate DAOST figure 3-5, but with data from the Boston Marathon winning times [get them here](https://en.wikipedia.org/wiki/List_of_winners_of_the_Boston_Marathon). You don't have to plot the smooth-curve approximations, it's enough to do the straight line fits.\n",
    "\n",
    "* First get the data from wikipedia onto your computer (there are may ways to do this, from pasting the table into Excel, or your favorite WYSIWIG editor to downloading the wikipage's markdown source ... it's your choice). Or try out OpenRefine as [mentioned in the book](https://www.propublica.org/nerds/using-google-refine-for-data-cleaning). *New*: I hear this one is pretty great for extracting tables from wikipedia: http://wikitable2csv.ggor.de/.\n",
    "* You probably also want to convert the time in hours into minutes - once again there are many ways to do that. It's your choice.\n",
    "* Start by plotting the raw data. Use different symbols for men/women. Do you see the same trends as in the data used in the book?\n",
    "* Use `path` from Chapter 11 to connect the dots.\n",
    "* Add your straight-line fit. You can do this in D3, but if you'd like it's OK to calculate the fit elsewhere (Python, Matlab, R, etc) and then simply add the straight line to the plot.\n",
    " - If you want to try your luck with pure D3, you might find inspiration [in this `bl.ock`](http://bl.ocks.org/benvandyke/8459843).\n",
    "* Make sure you have a plot description, axes labels, and legend somewhere.\n",
    "* Set up the plot so you can toggle between *only women*, *only men*, *all data*, using our skills from last time.\n",
    "* Add tooltips that show the time & year, when you hover over a point, using our skills from chapter 10. Feel free to implement the tooltips any way you like.\n",
    "* Bonus (**optional**), also show the name of the winner corresponding to a datapoint in the tooltip."
   ]
  },
  {
   "cell_type": "code",
   "execution_count": null,
   "metadata": {},
   "outputs": [],
   "source": []
  }
 ],
 "metadata": {
  "kernelspec": {
   "display_name": "Python 2",
   "language": "python",
   "name": "python2"
  },
  "language_info": {
   "codemirror_mode": {
    "name": "ipython",
    "version": 2
   },
   "file_extension": ".py",
   "mimetype": "text/x-python",
   "name": "python",
   "nbconvert_exporter": "python",
   "pygments_lexer": "ipython2",
   "version": "2.7.14"
  }
 },
 "nbformat": 4,
 "nbformat_minor": 2
}
