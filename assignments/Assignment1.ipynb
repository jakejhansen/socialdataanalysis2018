{
 "cells": [
  {
   "cell_type": "markdown",
   "metadata": {},
   "source": [
    "# Assignment 1.\n",
    "\n",
    "## Formalia:\n",
    "\n",
    "Please read the [assignment overview page](https://github.com/suneman/socialdataanalysis2018/wiki/Assignments) carefully before proceeding. This page contains information about formatting (including formats etc), group sizes, and many other aspects of handing in the assignment. \n",
    "\n",
    "_If you fail to follow these simple instructions, it will negatively impact your grade!_\n",
    "\n",
    "**Due date and time**: The assignment is due on Monday Februrary 26th, 2018 at 23:55. Hand in your files via [`http://peergrade.io`](http://peergrade.io/).\n",
    "\n",
    "**Peergrading date and time**: _Remember that after handing in you have 24 hours to evaluate a few assignments written by other members of the class_. Thus, the peer evaluations are due on Monday March th, 2018 at 23:55."
   ]
  },
  {
   "cell_type": "markdown",
   "metadata": {
    "collapsed": true
   },
   "source": [
    "## Part 1: DAOST Chapter 2 Questions\n",
    "    \n",
    "* Explain in your own words the point of the jitter plot.\n",
    "\n",
    " * <span style = \"color : blue\"> We can a jitter plot to displace overlaying points so that we can actually see if more points a lying ontop of eachother. </span>\n",
    " \n",
    " \n",
    "* Explain in your own words the point of figure 2-3. (I'm going to skip saying \"in your own words\" going forward, but I hope you get the point; I expect all answers to be in your own words).\n",
    "\n",
    " * <span style = \"color : blue\"> Here is it shown, that the placement of the bins is quite important in the representation of our histogram. The first histogram shows that there are en equal number of datapoints in [1, 2], [2,3] and the second shows that most points are within [1.5, 2.5] with very few are the edges. This could also have been fixed by just choosing a smaller width. </span>\n",
    " \n",
    " \n",
    "* The author of DAOST (Philipp Janert) likes KDEs (and think they're better than histograms). And I don't. I didn't give a detailed explanation in the video, but now that works to my advantage. I'll ask you guys to think about this and thereby create an excellent exercise: When can KDEs be misleading?\n",
    "\n",
    " * <span style = \"color : blue\"> KDEs tend to average or smooth the data to form a more continious representation so we will have to think of a case where we don't want this. I think often when we have discrete events it might be unsuitable to smooth the data, for instance in the case of throwing dice. Also you are altering your data with an KDE so you don't have that 1:1 relationship and ease of reading. For instance a histogram wil CLEARLY show the proportion of datapoints in interval [x1, x2], and an KDE will just show a continious line that has been smoothed with some parameter. </span>\n",
    " \n",
    " \n",
    "* I've discussed some strengths of the CDF - there are also weaknesses. Janert writes \"[CDFs] have less intuitive appeal than histograms of KDEs\". What does he mean by that?\n",
    "\n",
    " * <span style = \"color : blue\"> It is a bit harder to read, you don't see the data exactly so if you don't pay attention you might just think that the end values are bigger than the beginning when we really want to be looking at the difference over the intervals in the plot to see how much data is condensed in a certain interval.</span>\n",
    " \n",
    " \n",
    "* What is a *Quantile plot*? What is it good for. \n",
    "\n",
    " * <span style = \"color : blue\">  It is just a CDF with the axes reversed. So we get our variable as a function of percentage. In the example: What is the response time for the 50% percentile? (average). </span>\n",
    " \n",
    " \n",
    "* How is a *Probablity plot* defined? What is it useful for? Have you ever seen one before?\n",
    "\n",
    " * <span style = \"color : blue\"> Here we essentially just plot the data againt a gaussian distribution along a straighe line. That way we can easily check if the data is truly gaussian distributed. We can also use other probability distributions and we do so to determine graphically if data stems from a specific underlying distribution. </span>\n",
    " \n",
    " \n",
    "* One of the reasons I like DAOST is that Janert is so suspicious of mean, median, and related summary statistics. Explain why one has to be careful when using those - and why visualization of the full data is always better. \n",
    "\n",
    " * <span style = \"color : blue\"> The distribution of data has to be one with a sharp peak and where it actually makes sense to use these. One outlier can easily ruin the party and render these statistics useless. Also non symetric distributions will not work, the mean will just be scewed and the variance also.  </span>\n",
    " \n",
    " \n",
    "* I love box plots. When are box plots most useful?\n",
    "\n",
    " * <span style = \"color : blue\"> Box plots are best in pairs, i.e for comparing different variables and distributions or datasets. </span>\n",
    " \n",
    " \n",
    "* The book doesn't mention [violin plots](https://en.wikipedia.org/wiki/Violin_plot). Are those better or worse than box plots? Why?\n",
    "\n",
    " * <span style = \"color : blue\"> They are essentially better - They show the distribution instead of just a box, however they are not very popular so getting your message across can be harder depending on the nature of the audience. They also look a bit like veginas</span>\n",
    " \n",
    " "
   ]
  },
  {
   "cell_type": "markdown",
   "metadata": {},
   "source": [
    "## Part 2: DAOST Chapter 3 Questions\n",
    "\n",
    "* Looking at Fig 3-1, Janert writes \"the data itself shows clearly that the amount of random noise in the data is small\". What do you think his argument is?\n",
    "\n",
    " * <span style = \"color : blue\"> Visually you can draw a nice and smooth lines that goes through all the data points. If we had a lot of noise, the points would be jittered around such a line so that every datapoint had a distance $d$ from the line. The larger the noise the larger the $d$ from the points to the line describing the relationship. This distance if often what we try to minimize when doing line-fitting i.e minimize the root mean square error. </span>\n",
    " \n",
    " \n",
    "* Can you think of a real-world example of a multivariate relationship like the one in Fig 3-3 (lower right panel)?\n",
    "\n",
    " * <span style = \"color : blue\"> It could be financial assets that depends differently on different input variables. For instance the plot could despict two assets, both which in the start falls in correlation with a GDP-variable but then one assets takes off because it is strongly correlated with a key number in its industry. The other asset is not in the same industry and as such is not correlated with this variable making it remain unchanged. </span>\n",
    " \n",
    " \n",
    "* What are the two methods Janert metions for smoothing noisy data? Can you think of other ones?\n",
    "\n",
    " * <span style = \"color : blue\"> Splines:We sticht piecewise polynomials together, controlling how smooth we want the curve and how close we want it to fit the data. Splines needs to be tuned to the problem at hand. One nice thing is that we can weight each datapoint, giving more weights to points that we know are accurate and less weights to those that we don't trust as much.</span>\n",
    " \n",
    " * <span style = \"color : blue\"> LOESS: This method is basically a local linear regression (usually), where we take all the data and weight it using a filter with a specified width before computing the linear regression. A large width means that we take a wider range of data points into consideration for the smoothed valued at our desired locationi and a smaller one means we take less. So using large kernels we get a more global trend, using a smaller one yields a more local trend. The LOESS is quite expensive because we have to filter all data with the kernel for each smoothed value that needs to be computed. </span>\n",
    " \n",
    " * <span style = \"color : blue\"> Other methods could be a standard running average or exponential smoothing (smooth each value with its previous values using an exponentially decreasing weight). </span>\n",
    " \n",
    " \n",
    "* What are residuals? Why is it a good idea to plot the residuals of your fit?\n",
    "\n",
    " * <span style = \"color : blue\"> Residuals are basically the remainder when you subtract the datapoints from your model, i.e subtract your estimate from the ground trouth. For an appropiate model, we would like to se symetrically and uncorrelated residuals. If you have uncorrelated residuals, the error in your model is due to noise, if you have correlated residuals it means that you have a SYSTEMATIC error in your model. So there are factors in your data-set which your model does not take into account. We should always plot the residual to both see their size but most importantly their structure. They are also usefull for outlier detection, i.e if you have a few residuals that are very far from the others it could mean that the corrosponding datapoint is an outlier in your dataset.</span>\n",
    " \n",
    " \n",
    "* Explain in your own words the point of the smooth tube in figure 3-7.\n",
    "\n",
    " * <span style = \"color : blue\"> It is to show both a smoothed line and also its confidence interval. The upper and lower bound of this confidence interval is made using only the datapoints with positive contributions for the upper and only residual with negative contribution for the lower bound. So in essence most the the datapoints should lie between the upper and lower confidence interval.</span>\n",
    " \n",
    " \n",
    "* What kind of relationships will a semi-log plot help you discover?\n",
    "\n",
    " * <span style = \"color : blue\"> Semi-log plot will clearly show us if our data has an exponential relationship on one axis because in a semi-log plot this will be shown as a straight line. Also all relative change is shown as the same size so it is the relative change that is in focus, not the absolute.</span>\n",
    " \n",
    " \n",
    "* What kind of functions will loglog plots help you see?\n",
    "\n",
    " * <span style = \"color : blue\"> A loglog plot will show us power-relations as straight lines. Where the slop of the line gives us the power-factor between the variables. I.e slope 2 corresponds to y = x^2. Note that we generally use singe and double log as a tool to show data which are fat apart (spanning many magnitues) in one plot without having one section of the plot being completely dominated by larger values. And this generally happens when we have power and exponential relationships in our data, meaning that many points will confined in a small range and then there will be large gaps spanning to the biggest points in the dataset. </span>\n",
    " \n",
    " \n",
    "* What the h#ll is *banking* and what element from our visual system does it use to help us see patterns? What are potential problems with banking?\n",
    "\n",
    " * <span style = \"color : blue\">  Banking is the process of adjusting the size and range of your axis such that lines in the graph are at approximately 45 degrees. Humans are great at recognized slopes and lines, generally useful for estimating trajectories and so on, however very small changes in slope are hard for us to see. The difference between 1 degree and 2 degrees are very hard differentiate, but the difference between 45 and 90 degrees are no problem. The problem with banking is, that it can become too extreme, shrinking one axis to almost nothing but on the other hand we will do banking manually and not by some algorithm so we will indeed fit the axis to whatever we think represents the structure of our data the best. Also another problem is, that humans seem to prefeer the 4:3 format and banking your graph can take your graphs away from this.</span>\n",
    " \n",
    " \n",
    "* I think figure 3-14 makes an important point about linear fits that is rarely made. What is it? \n",
    "\n",
    " * <span style = \"color : blue\">The point is, that the linear fit is not the best summarizer of data but instead a good predictor of one variable in response to another. It essentially shows that you can get two different optimal fits by either fitting x as function of y, or y as function of x. So when we use regression, it should be as a means of predicting data and not as a way to summarize it. </span>\n",
    " \n",
    " \n",
    "* Summarize the discussion of *Graphical Analysis* and *Presentation Graphics* on pp. 68-69 in your own words.\n",
    "\n",
    " * <span style = \"color : blue\"> Here he discusses the different between graphical analysis (visualizing the dataset in different ways to use the human eye to interpret pattern and correlations) and presenting the data to an audience. When we do graphical anaylsis, we seek to find an unknown structure to the answer and are therefore exploring the data. When we present it, we already know the results from previous anaylsis, not we want to communicate this result as best as possible to the reader. We need to make the graphs talk for themselves so they need as little text as possible for explaining, right font size, line thickness and so on to convery the result of our analysis. </span>\n",
    " \n",
    " "
   ]
  },
  {
   "cell_type": "markdown",
   "metadata": {},
   "source": [
    "## Part 3: Viz 1\n",
    "\n",
    "Re-creating an \"I quant NY\" page.\n",
    "\n",
    "\n",
    "* Read the page http://iquantny.tumblr.com/post/129373499164/this-is-quantifiably-the-best-month-to-go-to-the\n",
    "* On your `html` page, write \"This is a reproduction of http://iquantny.tumblr.com/post/129373499164/this-is-quantifiably-the-best-month-to-go-to-the as the first line\" (we don't want you guys to get in trouble with plagiarims).\n",
    "* Then format the page nicely with `CSS` styles that you like and put in the text from the original page. \n",
    "* Now, let's look at the first plot. \n",
    "![Blah]( https://raw.githubusercontent.com/suneman/socialdataanalysis2018/master/files/iquantny.png  \"The plot\")\n",
    "* I want you to create a beautiful version of this barchart and place it in the right position on the page you've just created. It should be a little bit different than it is on the page:\n",
    "  * I want the user to be able to *choose which data to display*, by (for example) clicking the type of produce (Fresh Fruit, Fresh Veggie, etc). You only need to dislplay one category at the time.\n",
    "  * The $y$-scale should change dynamically to fit the data\n",
    "  * Make sure you have the right axes, axes labels, title.\n",
    "  * You choose the remaining style.\n",
    "* **Optional** (for advanced users) create a stacked barchar. \n",
    "* **Optional** (for advanced users) put all four categories side-by-side in little groups of four (still enabling the user to turn categories on/off).\n",
    "Once you have finished your visualization, update the text to describe it."
   ]
  },
  {
   "cell_type": "markdown",
   "metadata": {},
   "source": [
    "## Part 4: Viz 2\n",
    "\n",
    "The idea is to recreate DAOST figure 3-5, but with data from the Boston Marathon winning times [get them here](https://en.wikipedia.org/wiki/List_of_winners_of_the_Boston_Marathon). You don't have to plot the smooth-curve approximations, it's enough to do the straight line fits.\n",
    "\n",
    "* First get the data from wikipedia onto your computer (there are may ways to do this, from pasting the table into Excel, or your favorite WYSIWIG editor to downloading the wikipage's markdown source ... it's your choice). Or try out OpenRefine as [mentioned in the book](https://www.propublica.org/nerds/using-google-refine-for-data-cleaning). *New*: I hear this one is pretty great for extracting tables from wikipedia: http://wikitable2csv.ggor.de/.\n",
    "* You probably also want to convert the time in hours into minutes - once again there are many ways to do that. It's your choice.\n",
    "* Start by plotting the raw data. Use different symbols for men/women. Do you see the same trends as in the data used in the book?\n",
    "* Use `path` from Chapter 11 to connect the dots.\n",
    "* Add your straight-line fit. You can do this in D3, but if you'd like it's OK to calculate the fit elsewhere (Python, Matlab, R, etc) and then simply add the straight line to the plot.\n",
    " - If you want to try your luck with pure D3, you might find inspiration [in this `bl.ock`](http://bl.ocks.org/benvandyke/8459843).\n",
    "* Make sure you have a plot description, axes labels, and legend somewhere.\n",
    "* Set up the plot so you can toggle between *only women*, *only men*, *all data*, using our skills from last time.\n",
    "* Add tooltips that show the time & year, when you hover over a point, using our skills from chapter 10. Feel free to implement the tooltips any way you like.\n",
    "* Bonus (**optional**), also show the name of the winner corresponding to a datapoint in the tooltip."
   ]
  },
  {
   "cell_type": "code",
   "execution_count": 1,
   "metadata": {},
   "outputs": [
    {
     "name": "stderr",
     "output_type": "stream",
     "text": [
      "/usr/local/lib/python3.5/dist-packages/ipykernel_launcher.py:5: SettingWithCopyWarning: \n",
      "A value is trying to be set on a copy of a slice from a DataFrame\n",
      "\n",
      "See the caveats in the documentation: http://pandas.pydata.org/pandas-docs/stable/indexing.html#indexing-view-versus-copy\n",
      "  \"\"\"\n"
     ]
    }
   ],
   "source": [
    "import pandas as pd\n",
    "df = pd.read_csv('/home/jacob/Downloads/marathon_times-csv.csv')\n",
    "for i in range(len(df['Time'])):\n",
    "    h, m, s = df['Time'][i].split(\":\")\n",
    "    df['Time'][i] = 60*60*int(h) + 60*int(m) + int(s)"
   ]
  },
  {
   "cell_type": "code",
   "execution_count": 92,
   "metadata": {},
   "outputs": [
    {
     "name": "stdout",
     "output_type": "stream",
     "text": [
      "1897 1990 [ 9641.3019036] [ 7830.75060147]\n",
      "1966 1990 [ 12088.50461538] [ 7970.45538462]\n"
     ]
    },
    {
     "data": {
      "image/png": "[encoded data removed]",
      "text/plain": [
       "<matplotlib.figure.Figure at 0x7f1eddb8f438>"
      ]
     },
     "metadata": {},
     "output_type": "display_data"
    }
   ],
   "source": [
    "import matplotlib.pyplot as plt\n",
    "import numpy as np\n",
    "from sklearn import datasets, linear_model\n",
    "for i in range(2):\n",
    "    X = df[(df['Gender'] == i) & (df['Year'] <= 1990)]['Year']\n",
    "    Y = df[(df['Gender'] == i) & (df['Year'] <= 1990)]['Time']\n",
    "\n",
    "    plt.plot(X, Y)\n",
    "\n",
    "    X = np.array(X).reshape(-1,1)\n",
    "    Y = np.array(Y).reshape(-1,1)\n",
    "    regr = linear_model.LinearRegression()\n",
    "    regr.fit(X, Y)\n",
    "\n",
    "    x0 = np.min(X)\n",
    "    x1 = np.max(X)\n",
    "    y0 = regr.intercept_ + regr.coef_[0] * x0\n",
    "    y1 = regr.intercept_ + regr.coef_[0] * x1\n",
    "\n",
    "    plt.plot(np.array([x0, x1]), np.array([y0, y1]))\n",
    "    print(x0, x1, y0, y1)\n",
    "    \n",
    "plt.show()\n"
   ]
  },
  {
   "cell_type": "code",
   "execution_count": null,
   "metadata": {
    "collapsed": true
   },
   "outputs": [],
   "source": []
  }
 ],
 "metadata": {
  "kernelspec": {
   "display_name": "Python 3",
   "language": "python",
   "name": "python3"
  },
  "language_info": {
   "codemirror_mode": {
    "name": "ipython",
    "version": 3
   },
   "file_extension": ".py",
   "mimetype": "text/x-python",
   "name": "python",
   "nbconvert_exporter": "python",
   "pygments_lexer": "ipython3",
   "version": "3.5.2"
  }
 },
 "nbformat": 4,
 "nbformat_minor": 2
}
